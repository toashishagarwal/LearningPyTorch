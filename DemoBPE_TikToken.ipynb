{
  "nbformat": 4,
  "nbformat_minor": 0,
  "metadata": {
    "colab": {
      "provenance": [],
      "authorship_tag": "ABX9TyOQsG05F33FnF6acpEed/bY"
    },
    "kernelspec": {
      "name": "python3",
      "display_name": "Python 3"
    },
    "language_info": {
      "name": "python"
    }
  },
  "cells": [
    {
      "cell_type": "code",
      "execution_count": 4,
      "metadata": {
        "colab": {
          "base_uri": "https://localhost:8080/"
        },
        "id": "s50S-S8QdWCI",
        "outputId": "63f10754-f120-4162-e7d4-4847bd0ffb25"
      },
      "outputs": [
        {
          "output_type": "stream",
          "name": "stdout",
          "text": [
            "************ Using gpt-3.5-turbo *****************\n",
            "[9906, 11, 4435, 13, 1115, 374, 15038, 2294]\n",
            "Hello, World. This is somewhere great\n",
            "************ Using gpt2 *****************\n",
            "[15496, 11, 2159, 13, 770, 318, 7382, 1049]\n",
            "Hello, World. This is somewhere great\n"
          ]
        }
      ],
      "source": [
        "import tiktoken\n",
        "\n",
        "def encode_and_decode(model_name, text):\n",
        "  \"\"\"Encodes and decodes text using the specified model's tokenizer.\"\"\"\n",
        "\n",
        "  print(f\"************ Using {model_name} *****************\")\n",
        "  tokenizer = tiktoken.encoding_for_model(model_name)\n",
        "  tokens = tokenizer.encode(text)\n",
        "\n",
        "  print(tokens)\n",
        "  print(tokenizer.decode(tokens))\n",
        "\n",
        "text = \"Hello, World. This is somewhere great\"\n",
        "\n",
        "encode_and_decode(\"gpt-3.5-turbo\", text)\n",
        "encode_and_decode(\"gpt2\", text)"
      ]
    }
  ]
}