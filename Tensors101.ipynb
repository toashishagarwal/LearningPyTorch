{
  "nbformat": 4,
  "nbformat_minor": 0,
  "metadata": {
    "colab": {
      "provenance": []
    },
    "kernelspec": {
      "name": "python3",
      "display_name": "Python 3"
    },
    "language_info": {
      "name": "python"
    }
  },
  "cells": [
    {
      "cell_type": "code",
      "execution_count": 34,
      "metadata": {
        "id": "bvF-Nszu6zUQ"
      },
      "outputs": [],
      "source": [
        "import torch"
      ]
    },
    {
      "cell_type": "code",
      "source": [
        "# Tensor is a multi-dimensional array; easy for mathematical operations\n",
        "# 1D tensor is aka SCALAR\n",
        "# Create a tensor\n",
        "a=torch.tensor([1,2,3])\n",
        "print(f\"a={a}\")\n",
        "\n",
        "b=torch.tensor([1.1,2.1,3.1])\n",
        "print(f\"b={b}\")"
      ],
      "metadata": {
        "colab": {
          "base_uri": "https://localhost:8080/"
        },
        "id": "sP7d2s_D7CBo",
        "outputId": "76e69076-30cc-43b1-8de2-f1b639eec46d"
      },
      "execution_count": 35,
      "outputs": [
        {
          "output_type": "stream",
          "name": "stdout",
          "text": [
            "a=tensor([1, 2, 3])\n",
            "b=tensor([1.1000, 2.1000, 3.1000])\n"
          ]
        }
      ]
    },
    {
      "cell_type": "code",
      "source": [
        "# Shape of Tensor\n",
        "a.shape\n",
        "print(a.shape)\n",
        "\n",
        "# Type of Tensor\n",
        "a.dtype"
      ],
      "metadata": {
        "colab": {
          "base_uri": "https://localhost:8080/"
        },
        "id": "YJ04Jcni_OgL",
        "outputId": "7d71a88f-33b9-4e33-ccfb-f71c28e395da"
      },
      "execution_count": 36,
      "outputs": [
        {
          "output_type": "stream",
          "name": "stdout",
          "text": [
            "torch.Size([3])\n"
          ]
        },
        {
          "output_type": "execute_result",
          "data": {
            "text/plain": [
              "torch.int64"
            ]
          },
          "metadata": {},
          "execution_count": 36
        }
      ]
    },
    {
      "cell_type": "code",
      "source": [
        "# Change the datatype of tensor/ Create a new tensor of specific datatype\n",
        "c=torch.tensor([1,2,3],dtype=torch.float64)\n",
        "print(f\"c={c}\")"
      ],
      "metadata": {
        "colab": {
          "base_uri": "https://localhost:8080/"
        },
        "id": "Oqhp1V_N_bW7",
        "outputId": "08df86e0-f115-489d-c462-ee7f34a5a514"
      },
      "execution_count": 37,
      "outputs": [
        {
          "output_type": "stream",
          "name": "stdout",
          "text": [
            "c=tensor([1., 2., 3.], dtype=torch.float64)\n"
          ]
        }
      ]
    },
    {
      "cell_type": "code",
      "source": [
        "# Get the memory id of the tensor\n",
        "print(f\"memory(a) = {id(a)}\")\n",
        "\n",
        "print(f\"memory(b) = {id(b)}\")\n",
        "\n",
        "print(f\"memory(c) = {id(c)}\")"
      ],
      "metadata": {
        "colab": {
          "base_uri": "https://localhost:8080/"
        },
        "id": "kvf3XQIA_sL3",
        "outputId": "b97a2d82-3029-420e-8761-023f50db7746"
      },
      "execution_count": 38,
      "outputs": [
        {
          "output_type": "stream",
          "name": "stdout",
          "text": [
            "memory(a) = 139797316624432\n",
            "memory(b) = 139797315400528\n",
            "memory(c) = 139797315400336\n"
          ]
        }
      ]
    },
    {
      "cell_type": "code",
      "source": [
        "# Addition of tensors\n",
        "print(f\"a+b={a+b}\")\n",
        "\n",
        "# Subtraction of tensors\n",
        "print(f\"b-a={b-a}\")\n",
        "\n",
        "# Multiplication of tensors\n",
        "print(f\"a*b={a*b}\")"
      ],
      "metadata": {
        "colab": {
          "base_uri": "https://localhost:8080/"
        },
        "id": "CE1ehnm27gw6",
        "outputId": "f2f62116-42f4-4aaf-951a-5f29bc037535"
      },
      "execution_count": 39,
      "outputs": [
        {
          "output_type": "stream",
          "name": "stdout",
          "text": [
            "a+b=tensor([2.1000, 4.1000, 6.1000])\n",
            "b-a=tensor([0.1000, 0.1000, 0.1000])\n",
            "a*b=tensor([1.1000, 4.2000, 9.3000])\n"
          ]
        }
      ]
    },
    {
      "cell_type": "code",
      "source": [
        "# 2D tensor\n",
        "# 2D tensor is aka MATRIX\n",
        "m1=torch.tensor([[1.0,2.0,3.0],[4.0,5.0,6.0]])\n",
        "print(f\"m1={m1}\")\n",
        "\n",
        "m2=torch.tensor([[1.1,2.1,3.1],[4.1,5.1,6.1]])\n",
        "print(f\"m2={m2}\")"
      ],
      "metadata": {
        "colab": {
          "base_uri": "https://localhost:8080/"
        },
        "id": "UNhWJCLq8FSi",
        "outputId": "7c9ace13-42e9-41f9-e45c-8045351d1bf4"
      },
      "execution_count": 40,
      "outputs": [
        {
          "output_type": "stream",
          "name": "stdout",
          "text": [
            "m1=tensor([[1., 2., 3.],\n",
            "        [4., 5., 6.]])\n",
            "m2=tensor([[1.1000, 2.1000, 3.1000],\n",
            "        [4.1000, 5.1000, 6.1000]])\n"
          ]
        }
      ]
    },
    {
      "cell_type": "code",
      "source": [
        "#Addition of 2D tensors\n",
        "\n",
        "print(f\"m1+m2={m1+m2}\")\n",
        "\n",
        "#Subtraction of 2D tensors\n",
        "print(f\"m2-m1={m2-m1}\")"
      ],
      "metadata": {
        "colab": {
          "base_uri": "https://localhost:8080/"
        },
        "id": "nV3JmBFi8loU",
        "outputId": "a47a2bf1-96c1-414a-910c-09cc22dea0fe"
      },
      "execution_count": 41,
      "outputs": [
        {
          "output_type": "stream",
          "name": "stdout",
          "text": [
            "m1+m2=tensor([[ 2.1000,  4.1000,  6.1000],\n",
            "        [ 8.1000, 10.1000, 12.1000]])\n",
            "m2-m1=tensor([[0.1000, 0.1000, 0.1000],\n",
            "        [0.1000, 0.1000, 0.1000]])\n"
          ]
        }
      ]
    },
    {
      "cell_type": "code",
      "source": [
        "# Multiplication of 2 tensors using matmul\n",
        "# the shapes of the 2 tensors should be compatible as per rule\n",
        "m3 = torch.tensor([[2.2, 3.2], [1.1, 2.1], [3.2, 0.5]])\n",
        "print(f\"m1*m3={torch.matmul(m1,m3)}\")"
      ],
      "metadata": {
        "colab": {
          "base_uri": "https://localhost:8080/"
        },
        "id": "1g3hxh9l88Yu",
        "outputId": "95b1fb49-e50b-4087-ac7f-1b613d38b9f4"
      },
      "execution_count": 42,
      "outputs": [
        {
          "output_type": "stream",
          "name": "stdout",
          "text": [
            "m1*m3=tensor([[14.0000,  8.9000],\n",
            "        [33.5000, 26.3000]])\n"
          ]
        }
      ]
    },
    {
      "cell_type": "code",
      "source": [
        "# ACTIVATION functions examples\n",
        "# Sigmoid - returns the values between 0.0 and 1.0\n",
        "\n",
        "import torch.nn\n",
        "\n",
        "print(f\"m1={m1}\")\n",
        "\n",
        "sigmoid = torch.nn.Sigmoid()\n",
        "print(f\"sigmoid(m1)={sigmoid(m1)}\")"
      ],
      "metadata": {
        "colab": {
          "base_uri": "https://localhost:8080/"
        },
        "id": "sixGQ2ARAwBd",
        "outputId": "48f75967-53cf-41b7-cb8c-4514af234030"
      },
      "execution_count": 43,
      "outputs": [
        {
          "output_type": "stream",
          "name": "stdout",
          "text": [
            "m1=tensor([[1., 2., 3.],\n",
            "        [4., 5., 6.]])\n",
            "sigmoid(m1)=tensor([[0.7311, 0.8808, 0.9526],\n",
            "        [0.9820, 0.9933, 0.9975]])\n"
          ]
        }
      ]
    },
    {
      "cell_type": "code",
      "source": [
        "# relu- Rectified Linear Unit\n",
        "# it outputs the input directly if it's positive, and 0 otherwise i.e. it makes -ve values zeros\n",
        "m3 = torch.tensor([-1.123, 0.1,1.0])\n",
        "relu=torch.relu(m3)\n",
        "print(f\"relu(m3)={relu}\")"
      ],
      "metadata": {
        "colab": {
          "base_uri": "https://localhost:8080/"
        },
        "id": "qdHZpFWsA2dQ",
        "outputId": "ae6df48d-561b-4450-c2e3-5aba7b609445"
      },
      "execution_count": 44,
      "outputs": [
        {
          "output_type": "stream",
          "name": "stdout",
          "text": [
            "relu(m3)=tensor([0.0000, 0.1000, 1.0000])\n"
          ]
        }
      ]
    },
    {
      "cell_type": "code",
      "source": [
        "print(f\"m1={m1}\")\n",
        "\n",
        "# gelu - Gaussian Error Linear Unit\n",
        "gelu=torch.nn.GELU()\n",
        "print(f\"gelu(m1)={gelu(m1)}\")"
      ],
      "metadata": {
        "colab": {
          "base_uri": "https://localhost:8080/"
        },
        "id": "iCVxu4s3A4EL",
        "outputId": "cb69249d-00e5-4452-b70e-7b5a851dc9fb"
      },
      "execution_count": 45,
      "outputs": [
        {
          "output_type": "stream",
          "name": "stdout",
          "text": [
            "m1=tensor([[1., 2., 3.],\n",
            "        [4., 5., 6.]])\n",
            "gelu(m1)=tensor([[0.8413, 1.9545, 2.9960],\n",
            "        [3.9999, 5.0000, 6.0000]])\n"
          ]
        }
      ]
    },
    {
      "cell_type": "code",
      "source": [
        "from math import tanh\n",
        "# tanh - hyperbolic tangent function\n",
        "# outputs between -1 and 1\n",
        "m3 = torch.tensor([[-1.0, -2.4, 0.9], [1.0, 2.6, -0.8]])\n",
        "tanh=torch.tanh(m3)\n",
        "print(f\"tanh(m3)={tanh}\")"
      ],
      "metadata": {
        "colab": {
          "base_uri": "https://localhost:8080/"
        },
        "id": "acPOjPO_A5Yc",
        "outputId": "13af4549-6cb1-4ecc-8d6a-3c1e7035f09c"
      },
      "execution_count": 46,
      "outputs": [
        {
          "output_type": "stream",
          "name": "stdout",
          "text": [
            "tanh(m3)=tensor([[-0.7616, -0.9837,  0.7163],\n",
            "        [ 0.7616,  0.9890, -0.6640]])\n"
          ]
        }
      ]
    }
  ]
}