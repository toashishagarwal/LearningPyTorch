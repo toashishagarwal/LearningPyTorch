{
  "nbformat": 4,
  "nbformat_minor": 0,
  "metadata": {
    "colab": {
      "provenance": [],
      "authorship_tag": "ABX9TyP+r+5CNZhu7HT98+KM1Cyu",
      "include_colab_link": true
    },
    "kernelspec": {
      "name": "python3",
      "display_name": "Python 3"
    },
    "language_info": {
      "name": "python"
    }
  },
  "cells": [
    {
      "cell_type": "markdown",
      "metadata": {
        "id": "view-in-github",
        "colab_type": "text"
      },
      "source": [
        "<a href=\"https://colab.research.google.com/github/toashishagarwal/LearningPyTorch/blob/main/Tensors101.ipynb\" target=\"_parent\"><img src=\"https://colab.research.google.com/assets/colab-badge.svg\" alt=\"Open In Colab\"/></a>"
      ]
    },
    {
      "cell_type": "code",
      "execution_count": 2,
      "metadata": {
        "id": "bvF-Nszu6zUQ"
      },
      "outputs": [],
      "source": [
        "import torch"
      ]
    },
    {
      "cell_type": "code",
      "source": [
        "# Tensor is a multi-dimensional array; easy for mathematical operations\n",
        "# 1D tensor is aka SCALAR\n",
        "# Create a tensor\n",
        "a=torch.tensor([1,2,3])\n",
        "print(f\"a={a}\")\n",
        "\n",
        "b=torch.tensor([1.1,2.1,3.1])\n",
        "print(f\"b={b}\")"
      ],
      "metadata": {
        "colab": {
          "base_uri": "https://localhost:8080/"
        },
        "id": "sP7d2s_D7CBo",
        "outputId": "233854e5-9153-43a5-cb38-599164bdc3fa"
      },
      "execution_count": 3,
      "outputs": [
        {
          "output_type": "stream",
          "name": "stdout",
          "text": [
            "a=tensor([1, 2, 3])\n",
            "b=tensor([1.1000, 2.1000, 3.1000])\n"
          ]
        }
      ]
    },
    {
      "cell_type": "code",
      "source": [
        "# Shape of Tensor\n",
        "a.shape\n",
        "print(a.shape)\n",
        "\n",
        "# Type of Tensor\n",
        "a.dtype"
      ],
      "metadata": {
        "colab": {
          "base_uri": "https://localhost:8080/"
        },
        "id": "YJ04Jcni_OgL",
        "outputId": "6ca529f0-bbec-459f-edae-28355d872cb6"
      },
      "execution_count": 4,
      "outputs": [
        {
          "output_type": "stream",
          "name": "stdout",
          "text": [
            "torch.Size([3])\n"
          ]
        },
        {
          "output_type": "execute_result",
          "data": {
            "text/plain": [
              "torch.int64"
            ]
          },
          "metadata": {},
          "execution_count": 4
        }
      ]
    },
    {
      "cell_type": "code",
      "source": [
        "# Change the datatype of tensor/ Create a new tensor of specific datatype\n",
        "c=torch.tensor([1,2,3],dtype=torch.float64)\n",
        "print(f\"c={c}\")"
      ],
      "metadata": {
        "colab": {
          "base_uri": "https://localhost:8080/"
        },
        "id": "Oqhp1V_N_bW7",
        "outputId": "547a28c2-5f65-434f-f0f8-4f8f89831388"
      },
      "execution_count": 5,
      "outputs": [
        {
          "output_type": "stream",
          "name": "stdout",
          "text": [
            "c=tensor([1., 2., 3.], dtype=torch.float64)\n"
          ]
        }
      ]
    },
    {
      "cell_type": "code",
      "source": [
        "# Get the memory id of the tensor\n",
        "print(f\"memory(a) = {id(a)}\")\n",
        "\n",
        "print(f\"memory(b) = {id(b)}\")\n",
        "\n",
        "print(f\"memory(c) = {id(c)}\")"
      ],
      "metadata": {
        "colab": {
          "base_uri": "https://localhost:8080/"
        },
        "id": "kvf3XQIA_sL3",
        "outputId": "a3ed3861-eb4d-46fa-c16c-281ab6396ffb"
      },
      "execution_count": 6,
      "outputs": [
        {
          "output_type": "stream",
          "name": "stdout",
          "text": [
            "memory(a) = 140137268371696\n",
            "memory(b) = 140133182205840\n",
            "memory(c) = 140133182208048\n"
          ]
        }
      ]
    },
    {
      "cell_type": "code",
      "source": [
        "# Addition of tensors\n",
        "print(f\"a+b={a+b}\")\n",
        "\n",
        "# Subtraction of tensors\n",
        "print(f\"b-a={b-a}\")\n",
        "\n",
        "# Multiplication of tensors\n",
        "print(f\"a*b={a*b}\")"
      ],
      "metadata": {
        "colab": {
          "base_uri": "https://localhost:8080/"
        },
        "id": "CE1ehnm27gw6",
        "outputId": "853b8f43-9d85-4511-fdb4-99ff7734b7e9"
      },
      "execution_count": 7,
      "outputs": [
        {
          "output_type": "stream",
          "name": "stdout",
          "text": [
            "a+b=tensor([2.1000, 4.1000, 6.1000])\n",
            "b-a=tensor([0.1000, 0.1000, 0.1000])\n",
            "a*b=tensor([1.1000, 4.2000, 9.3000])\n"
          ]
        }
      ]
    },
    {
      "cell_type": "code",
      "source": [
        "# 2D tensor\n",
        "# 2D tensor is aka MATRIX\n",
        "m1=torch.tensor([[1.0,2.0,3.0],[4.0,5.0,6.0]])\n",
        "print(f\"m1={m1}\")\n",
        "\n",
        "m2=torch.tensor([[1.1,2.1,3.1],[4.1,5.1,6.1]])\n",
        "print(f\"m2={m2}\")"
      ],
      "metadata": {
        "colab": {
          "base_uri": "https://localhost:8080/"
        },
        "id": "UNhWJCLq8FSi",
        "outputId": "5e2d6bf1-69f7-40b4-fc5f-5cd172fba7dc"
      },
      "execution_count": 8,
      "outputs": [
        {
          "output_type": "stream",
          "name": "stdout",
          "text": [
            "m1=tensor([[1., 2., 3.],\n",
            "        [4., 5., 6.]])\n",
            "m2=tensor([[1.1000, 2.1000, 3.1000],\n",
            "        [4.1000, 5.1000, 6.1000]])\n"
          ]
        }
      ]
    },
    {
      "cell_type": "code",
      "source": [
        "#Addition of 2D tensors\n",
        "\n",
        "print(f\"m1+m2={m1+m2}\")\n",
        "\n",
        "#Subtraction of 2D tensors\n",
        "print(f\"m2-m1={m2-m1}\")"
      ],
      "metadata": {
        "colab": {
          "base_uri": "https://localhost:8080/"
        },
        "id": "nV3JmBFi8loU",
        "outputId": "4a29695d-10d6-46c1-c807-743ce8733933"
      },
      "execution_count": 9,
      "outputs": [
        {
          "output_type": "stream",
          "name": "stdout",
          "text": [
            "m1+m2=tensor([[ 2.1000,  4.1000,  6.1000],\n",
            "        [ 8.1000, 10.1000, 12.1000]])\n",
            "m2-m1=tensor([[0.1000, 0.1000, 0.1000],\n",
            "        [0.1000, 0.1000, 0.1000]])\n"
          ]
        }
      ]
    },
    {
      "cell_type": "code",
      "source": [
        "# Multiplication of 2 tensors using matmul\n",
        "# the shapes of the 2 tensors should be compatible as per rule\n",
        "m3 = torch.tensor([[2.2, 3.2], [1.1, 2.1], [3.2, 0.5]])\n",
        "print(f\"m1*m3={torch.matmul(m1,m3)}\")"
      ],
      "metadata": {
        "colab": {
          "base_uri": "https://localhost:8080/"
        },
        "id": "1g3hxh9l88Yu",
        "outputId": "636ff8e5-4234-42ff-ae42-f50aae4d74ea"
      },
      "execution_count": 10,
      "outputs": [
        {
          "output_type": "stream",
          "name": "stdout",
          "text": [
            "m1*m3=tensor([[14.0000,  8.9000],\n",
            "        [33.5000, 26.3000]])\n"
          ]
        }
      ]
    },
    {
      "cell_type": "code",
      "source": [
        "# ACTIVATION functions examples\n",
        "# 1. Sigmoid - returns the values between 0.0 and 1.0\n",
        "\n",
        "import torch.nn\n",
        "\n",
        "print(f\"m1={m1}\")\n",
        "\n",
        "sigmoid = torch.nn.Sigmoid()\n",
        "print(f\"sigmoid(m1)={sigmoid(m1)}\")"
      ],
      "metadata": {
        "colab": {
          "base_uri": "https://localhost:8080/"
        },
        "id": "sixGQ2ARAwBd",
        "outputId": "301aa20b-e20c-4b52-9aca-a9089667c656"
      },
      "execution_count": 11,
      "outputs": [
        {
          "output_type": "stream",
          "name": "stdout",
          "text": [
            "m1=tensor([[1., 2., 3.],\n",
            "        [4., 5., 6.]])\n",
            "sigmoid(m1)=tensor([[0.7311, 0.8808, 0.9526],\n",
            "        [0.9820, 0.9933, 0.9975]])\n"
          ]
        }
      ]
    },
    {
      "cell_type": "code",
      "source": [
        "# 2. relu- Rectified Linear Unit\n",
        "# it outputs the input directly if it's positive, and 0 otherwise i.e. it makes -ve values zeros\n",
        "m3 = torch.tensor([-1.123, 0.1,1.0])\n",
        "relu=torch.relu(m3)\n",
        "print(f\"relu(m3)={relu}\")"
      ],
      "metadata": {
        "colab": {
          "base_uri": "https://localhost:8080/"
        },
        "id": "qdHZpFWsA2dQ",
        "outputId": "614da2dd-43b5-45bb-81d9-30c5585e12bd"
      },
      "execution_count": 12,
      "outputs": [
        {
          "output_type": "stream",
          "name": "stdout",
          "text": [
            "relu(m3)=tensor([0.0000, 0.1000, 1.0000])\n"
          ]
        }
      ]
    },
    {
      "cell_type": "code",
      "source": [
        "print(f\"m1={m1}\")\n",
        "\n",
        "# 3. gelu - Gaussian Error Linear Unit\n",
        "gelu=torch.nn.GELU()\n",
        "print(f\"gelu(m1)={gelu(m1)}\")"
      ],
      "metadata": {
        "colab": {
          "base_uri": "https://localhost:8080/"
        },
        "id": "iCVxu4s3A4EL",
        "outputId": "e305c452-b169-4c27-a0ca-ff21d3482b8c"
      },
      "execution_count": 13,
      "outputs": [
        {
          "output_type": "stream",
          "name": "stdout",
          "text": [
            "m1=tensor([[1., 2., 3.],\n",
            "        [4., 5., 6.]])\n",
            "gelu(m1)=tensor([[0.8413, 1.9545, 2.9960],\n",
            "        [3.9999, 5.0000, 6.0000]])\n"
          ]
        }
      ]
    },
    {
      "cell_type": "code",
      "source": [
        "from math import tanh\n",
        "# 4. tanh - hyperbolic tangent function\n",
        "# outputs between -1 and 1\n",
        "m3 = torch.tensor([[-1.0, -2.4, 0.9], [1.0, 2.6, -0.8]])\n",
        "tanh=torch.tanh(m3)\n",
        "print(f\"tanh(m3)={tanh}\")"
      ],
      "metadata": {
        "colab": {
          "base_uri": "https://localhost:8080/"
        },
        "id": "acPOjPO_A5Yc",
        "outputId": "3c34f245-716d-456f-a590-33531c5b09e0"
      },
      "execution_count": 14,
      "outputs": [
        {
          "output_type": "stream",
          "name": "stdout",
          "text": [
            "tanh(m3)=tensor([[-0.7616, -0.9837,  0.7163],\n",
            "        [ 0.7616,  0.9890, -0.6640]])\n"
          ]
        }
      ]
    },
    {
      "cell_type": "code",
      "source": [
        "# 5. GLU\n",
        "glu = torch.nn.GLU(m3)\n",
        "print(f\"glu(m3)={glu}\")"
      ],
      "metadata": {
        "colab": {
          "base_uri": "https://localhost:8080/"
        },
        "id": "z7OHu6a_OFLa",
        "outputId": "2db9de1a-7e8e-4df3-b79c-da07dd845a1e"
      },
      "execution_count": 15,
      "outputs": [
        {
          "output_type": "stream",
          "name": "stdout",
          "text": [
            "glu(m3)=GLU(\n",
            "  dim=tensor([[-1.0000, -2.4000,  0.9000],\n",
            "          [ 1.0000,  2.6000, -0.8000]])\n",
            ")\n"
          ]
        }
      ]
    },
    {
      "cell_type": "code",
      "source": [
        "# Example of Dropout\n",
        "torch.manual_seed(123)\n",
        "dropout = torch.nn.Dropout(0.5)   # 50% dropout. Typically it is 0.2 or 0.1\n",
        "example = torch.ones(6,6)\n",
        "print(dropout(example))"
      ],
      "metadata": {
        "colab": {
          "base_uri": "https://localhost:8080/"
        },
        "id": "j8F_7rU9pf0D",
        "outputId": "e3ce0ce6-0739-48ab-8655-4cfbc99af4c8"
      },
      "execution_count": 19,
      "outputs": [
        {
          "output_type": "stream",
          "name": "stdout",
          "text": [
            "tensor([[2., 2., 2., 2., 2., 2.],\n",
            "        [0., 2., 0., 0., 0., 0.],\n",
            "        [0., 0., 2., 0., 2., 0.],\n",
            "        [2., 2., 0., 0., 0., 2.],\n",
            "        [2., 0., 0., 0., 0., 2.],\n",
            "        [0., 2., 0., 0., 0., 0.]])\n"
          ]
        }
      ]
    }
  ]
}